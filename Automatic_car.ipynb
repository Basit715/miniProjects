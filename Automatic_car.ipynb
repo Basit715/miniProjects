{
 "cells": [
  {
   "cell_type": "code",
   "execution_count": 7,
   "id": "1084ef68-3d07-438b-a066-1b5f019d140c",
   "metadata": {},
   "outputs": [
    {
     "name": "stdout",
     "output_type": "stream",
     "text": [
      "Empty list of tasks have been created for Basit\n",
      "Going to have a ciggrate after this code\n",
      "Then again start codin in python while talking to my love\n"
     ]
    }
   ],
   "source": [
    "class Todo:\n",
    "    def __init__(self, owner):\n",
    "        self.owner = owner\n",
    "        self.Tasks = []\n",
    "        \n",
    "    def add_task(self, t):\n",
    "        self.Tasks.append(t)\n",
    "      \n",
    "    def remove_task(self, t):\n",
    "        self.Tasks.remove(t)\n",
    "        \n",
    "    def display_pending_task(self):\n",
    "        for tasks in self.Tasks:\n",
    "            print(tasks)\n",
    "            \n",
    "    def __str__(self):\n",
    "        return f\"Empty list of tasks have been created for {self.owner}\"\n",
    "            \n",
    "my_tasks = Todo(\"Basit\")\n",
    "print(my_tasks)\n",
    "my_tasks.add_task(\"Going to have a ciggrate after this code\")\n",
    "my_tasks.add_task(\"Then again start codin in python while talking to my love\")\n",
    "my_tasks.display_pending_task()"
   ]
  },
  {
   "cell_type": "code",
   "execution_count": 2,
   "id": "ab390f1e-5ffb-4097-8be5-bc4b04ab6fd5",
   "metadata": {},
   "outputs": [
    {
     "name": "stdin",
     "output_type": "stream",
     "text": [
      "Open the driver seat window as True on key or press False True\n"
     ]
    },
    {
     "name": "stdout",
     "output_type": "stream",
     "text": [
      "Welcome Basit in our Hyundai Nexon automatic car\n",
      "****************************************************\n"
     ]
    },
    {
     "name": "stdin",
     "output_type": "stream",
     "text": [
      "On ignition press True to start your Hyundai Nexon automatic car or False True\n"
     ]
    },
    {
     "name": "stdout",
     "output_type": "stream",
     "text": [
      "Hey Basit as you have started your car we recommend you to wear your belt for safe driving\n",
      "As your speed is 0 we are shifting your car in ist gear.        You will be asked to enter the speed after constant time interval\n"
     ]
    },
    {
     "name": "stdin",
     "output_type": "stream",
     "text": [
      "Enter your current speed 10\n"
     ]
    },
    {
     "name": "stdout",
     "output_type": "stream",
     "text": [
      "Ist gear used. Increasing your speed on checking the flow of traffic and obstacles around\n"
     ]
    },
    {
     "name": "stdin",
     "output_type": "stream",
     "text": [
      "Enter your current speed 30\n"
     ]
    },
    {
     "name": "stdout",
     "output_type": "stream",
     "text": [
      "Shifting your gear to 3rd\n"
     ]
    },
    {
     "name": "stdin",
     "output_type": "stream",
     "text": [
      "Enter your current speed 120\n"
     ]
    },
    {
     "name": "stdout",
     "output_type": "stream",
     "text": [
      "Shifting your gear to 5th\n"
     ]
    },
    {
     "name": "stdin",
     "output_type": "stream",
     "text": [
      "Enter your current speed 220\n"
     ]
    },
    {
     "name": "stdout",
     "output_type": "stream",
     "text": [
      "speed limit crossed\n",
      "Your car has been stooped due to increase in speed\n"
     ]
    },
    {
     "data": {
      "text/plain": [
       "False"
      ]
     },
     "execution_count": 2,
     "metadata": {},
     "output_type": "execute_result"
    }
   ],
   "source": [
    "class Car:\n",
    "    def __init__(self, brand, model, color):\n",
    "        self.brand = brand\n",
    "        self.model = model\n",
    "        self.color = color\n",
    "    def driving(self, name):\n",
    "        win = input(\"Open the driver seat window as True on key or press False\")\n",
    "        if win:\n",
    "            print(f\"Welcome {name} in our {self.brand} {self.model} automatic car\")\n",
    "        else:\n",
    "            print(\"Open the driver seat window as True on key or press False\")\n",
    "        print(\"****************************************************\")\n",
    "        start = input(f\"On ignition press True to start your {self.brand} {self.model} automatic car or False\")\n",
    "        if start:\n",
    "            print(f\"Hey {name} as you have started your car we recommend you to wear your belt for safe driving\")\n",
    "        else:\n",
    "            print(f\"On ignition press true to start your {self.brand} {self.model} automatic car\")\n",
    "        print(\"As your speed is 0 we are shifting your car in ist gear.\\\n",
    "        You will be asked to enter the speed after constant time interval\")\n",
    "        \n",
    "        while True:\n",
    "            speed = int(input(\"Enter your current speed\"))\n",
    "            if speed <=10:\n",
    "                print(\"Ist gear used. Increasing your speed on checking the flow of traffic and obstacles around\")\n",
    "            elif speed <=20:\n",
    "                print(\"Shifting your gear to 2nd\")\n",
    "            elif speed <=30:\n",
    "                print(\"Shifting your gear to 3rd\")\n",
    "            elif speed <=50:\n",
    "                print(\"Shifting your gear to 4th\")\n",
    "            elif speed > 50 and speed < 200:\n",
    "                print(\"Shifting your gear to 5th\")\n",
    "            else:\n",
    "                print(\"speed limit crossed\")\n",
    "            \n",
    "            if speed > 200:\n",
    "                print(\"Your car has been stopped due to increase in speed\")\n",
    "                return False\n",
    "                \n",
    "    def checkBattery(self,)   \n",
    "        \n",
    "            \n",
    "\n",
    "my_car = Car(\"Hyundai\", \"Nexon\", \"red\")\n",
    "my_car.driving(\"Basit\")\n",
    "        \n",
    "        "
   ]
  },
  {
   "cell_type": "code",
   "execution_count": null,
   "id": "62d49404-fbb6-4553-ab72-83ed922b35de",
   "metadata": {},
   "outputs": [],
   "source": []
  },
  {
   "cell_type": "code",
   "execution_count": null,
   "id": "1c488e86-a5c3-4fef-8942-bccbd2ccc4a7",
   "metadata": {},
   "outputs": [],
   "source": []
  }
 ],
 "metadata": {
  "kernelspec": {
   "display_name": "Python 3 (ipykernel)",
   "language": "python",
   "name": "python3"
  },
  "language_info": {
   "codemirror_mode": {
    "name": "ipython",
    "version": 3
   },
   "file_extension": ".py",
   "mimetype": "text/x-python",
   "name": "python",
   "nbconvert_exporter": "python",
   "pygments_lexer": "ipython3",
   "version": "3.10.6"
  }
 },
 "nbformat": 4,
 "nbformat_minor": 5
}
